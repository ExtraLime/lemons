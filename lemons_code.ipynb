{
 "cells": [
  {
   "cell_type": "code",
   "execution_count": 4,
   "metadata": {},
   "outputs": [
    {
     "name": "stderr",
     "output_type": "stream",
     "text": [
      "/root/.pyenv/versions/3.6.0/lib/python3.6/importlib/_bootstrap.py:205: RuntimeWarning: numpy.dtype size changed, may indicate binary incompatibility. Expected 96, got 88\n",
      "  return f(*args, **kwds)\n",
      "/root/.pyenv/versions/3.6.0/lib/python3.6/importlib/_bootstrap.py:205: RuntimeWarning: numpy.dtype size changed, may indicate binary incompatibility. Expected 96, got 88\n",
      "  return f(*args, **kwds)\n"
     ]
    },
    {
     "data": {
      "text/html": [
       "<div style=\"background-color:rgb(84,48,5);height:20px;width:20px;display:inline-block;\"></div><div style=\"background-color:rgb(140,81,10);height:20px;width:20px;display:inline-block;\"></div><div style=\"background-color:rgb(191,129,45);height:20px;width:20px;display:inline-block;\"></div><div style=\"background-color:rgb(223,194,125);height:20px;width:20px;display:inline-block;\"></div><div style=\"background-color:rgb(246,232,195);height:20px;width:20px;display:inline-block;\"></div><div style=\"background-color:rgb(199,234,229);height:20px;width:20px;display:inline-block;\"></div><div style=\"background-color:rgb(128,205,193);height:20px;width:20px;display:inline-block;\"></div><div style=\"background-color:rgb(53,151,143);height:20px;width:20px;display:inline-block;\"></div><div style=\"background-color:rgb(1,102,94);height:20px;width:20px;display:inline-block;\"></div><div style=\"background-color:rgb(0,60,48);height:20px;width:20px;display:inline-block;\"></div>"
      ],
      "text/plain": [
       "<IPython.core.display.HTML object>"
      ]
     },
     "execution_count": 4,
     "metadata": {},
     "output_type": "execute_result"
    }
   ],
   "source": [
    "import numpy as np\n",
    "import pandas as pd\n",
    "import scipy.stats as stats\n",
    "import matplotlib.pyplot as plt\n",
    "import seaborn as sns\n",
    "\n",
    "\n",
    "from sklearn import linear_model, neighbors, ensemble, naive_bayes, svm\n",
    "from sklearn.model_selection import train_test_split, ShuffleSplit, cross_validate\n",
    "from sklearn.metrics import roc_auc_score, confusion_matrix, classification_report, recall_score, roc_curve, auc\n",
    "from sklearn.preprocessing import StandardScaler\n",
    "from sklearn.base import BaseEstimator, TransformerMixin\n",
    "\n",
    "from imblearn.over_sampling import SMOTE\n",
    "\n",
    "import plotly\n",
    "plotly.tools.set_credentials_file(username='getanaccount', api_key='forfree')\n",
    "import plotly.plotly as py\n",
    "import plotly.graph_objs as go\n",
    "import colorlover as cl\n",
    "\n",
    "from IPython.display import Image\n",
    "from IPython.display import HTML\n",
    "\n",
    "import warnings\n",
    "\n",
    "warnings.filterwarnings(\n",
    "    module='scipy',\n",
    "    action='ignore',\n",
    "    message='Using a')\n",
    "\n",
    "warnings.filterwarnings(\n",
    "    module='sklearn',\n",
    "    action='ignore',\n",
    "    message='Data with')\n",
    "warnings.filterwarnings(\"ignore\",category=DeprecationWarning)\n",
    "\n",
    "\n",
    "\n",
    "\n",
    "class CustomScaler(BaseEstimator,TransformerMixin): \n",
    "    def __init__(self,columns,copy=True,with_mean=True,with_std=True):\n",
    "        self.scaler = StandardScaler(copy,with_mean,with_std)\n",
    "        self.columns = columns\n",
    "\n",
    "    def fit(self, X, y=None):\n",
    "        self.scaler.fit(X[self.columns], y)\n",
    "        return self\n",
    "\n",
    "    def transform(self, X, y=None, copy=None):\n",
    "        init_col_order = X.columns\n",
    "        X_scaled = pd.DataFrame(self.scaler.transform(X[self.columns]), columns=self.columns)\n",
    "        X_not_scaled = X.ix[:,~X.columns.isin(self.columns)]\n",
    "        return pd.concat([X_not_scaled, X_scaled], axis=1)[init_col_order]\n",
    "    \n",
    "def Gini(y_true, y_pred):\n",
    "    # check and get number of samples\n",
    "    assert y_true.shape == y_pred.shape\n",
    "    n_samples = y_true.shape[0]\n",
    "    \n",
    "    # sort rows on prediction column \n",
    "    # (from largest to smallest)\n",
    "    arr = np.array([y_true, y_pred]).transpose()\n",
    "    true_order = arr[arr[:,0].argsort()][::-1,0]\n",
    "    pred_order = arr[arr[:,1].argsort()][::-1,0]\n",
    "    \n",
    "    # get Lorenz curves\n",
    "    L_true = np.cumsum(true_order) / np.sum(true_order)\n",
    "    L_pred = np.cumsum(pred_order) / np.sum(pred_order)\n",
    "    L_ones = np.linspace(1/n_samples, 1, n_samples)\n",
    "    \n",
    "    # get Gini coefficients (area between curves)\n",
    "    G_true = np.sum(L_ones - L_true)\n",
    "    G_pred = np.sum(L_ones - L_pred)\n",
    "    \n",
    "    # normalize to true Gini coefficient\n",
    "    return G_pred/G_true\n",
    "\n",
    "colors = cl.to_rgb(cl.scales['10']['div']['BrBG'])\n",
    "HTML(cl.to_html( cl.scales['10']['div']['BrBG'] ))"
   ]
  },
  {
   "cell_type": "markdown",
   "metadata": {},
   "source": [
    "## Importing the data"
   ]
  },
  {
   "cell_type": "code",
   "execution_count": 5,
   "metadata": {},
   "outputs": [],
   "source": [
    "#import the data, manage nulls and date field\n",
    "df = pd.read_csv('lemon_train.csv')"
   ]
  },
  {
   "cell_type": "code",
   "execution_count": 6,
   "metadata": {
    "scrolled": true
   },
   "outputs": [
    {
     "data": {
      "text/html": [
       "<div>\n",
       "<style scoped>\n",
       "    .dataframe tbody tr th:only-of-type {\n",
       "        vertical-align: middle;\n",
       "    }\n",
       "\n",
       "    .dataframe tbody tr th {\n",
       "        vertical-align: top;\n",
       "    }\n",
       "\n",
       "    .dataframe thead th {\n",
       "        text-align: right;\n",
       "    }\n",
       "</style>\n",
       "<table border=\"1\" class=\"dataframe\">\n",
       "  <thead>\n",
       "    <tr style=\"text-align: right;\">\n",
       "      <th></th>\n",
       "      <th>RefId</th>\n",
       "      <th>IsBadBuy</th>\n",
       "      <th>PurchDate</th>\n",
       "      <th>Auction</th>\n",
       "      <th>VehYear</th>\n",
       "      <th>VehicleAge</th>\n",
       "      <th>Make</th>\n",
       "      <th>Model</th>\n",
       "      <th>Trim</th>\n",
       "      <th>SubModel</th>\n",
       "      <th>...</th>\n",
       "      <th>MMRCurrentRetailAveragePrice</th>\n",
       "      <th>MMRCurrentRetailCleanPrice</th>\n",
       "      <th>PRIMEUNIT</th>\n",
       "      <th>AUCGUART</th>\n",
       "      <th>BYRNO</th>\n",
       "      <th>VNZIP1</th>\n",
       "      <th>VNST</th>\n",
       "      <th>VehBCost</th>\n",
       "      <th>IsOnlineSale</th>\n",
       "      <th>WarrantyCost</th>\n",
       "    </tr>\n",
       "  </thead>\n",
       "  <tbody>\n",
       "    <tr>\n",
       "      <th>0</th>\n",
       "      <td>1</td>\n",
       "      <td>0</td>\n",
       "      <td>12/7/2009</td>\n",
       "      <td>ADESA</td>\n",
       "      <td>2006</td>\n",
       "      <td>3</td>\n",
       "      <td>MAZDA</td>\n",
       "      <td>MAZDA3</td>\n",
       "      <td>i</td>\n",
       "      <td>4D SEDAN I</td>\n",
       "      <td>...</td>\n",
       "      <td>11597.0</td>\n",
       "      <td>12409.0</td>\n",
       "      <td>NaN</td>\n",
       "      <td>NaN</td>\n",
       "      <td>21973</td>\n",
       "      <td>33619</td>\n",
       "      <td>FL</td>\n",
       "      <td>7100.0</td>\n",
       "      <td>0</td>\n",
       "      <td>1113</td>\n",
       "    </tr>\n",
       "    <tr>\n",
       "      <th>1</th>\n",
       "      <td>2</td>\n",
       "      <td>0</td>\n",
       "      <td>12/7/2009</td>\n",
       "      <td>ADESA</td>\n",
       "      <td>2004</td>\n",
       "      <td>5</td>\n",
       "      <td>DODGE</td>\n",
       "      <td>1500 RAM PICKUP 2WD</td>\n",
       "      <td>ST</td>\n",
       "      <td>QUAD CAB 4.7L SLT</td>\n",
       "      <td>...</td>\n",
       "      <td>11374.0</td>\n",
       "      <td>12791.0</td>\n",
       "      <td>NaN</td>\n",
       "      <td>NaN</td>\n",
       "      <td>19638</td>\n",
       "      <td>33619</td>\n",
       "      <td>FL</td>\n",
       "      <td>7600.0</td>\n",
       "      <td>0</td>\n",
       "      <td>1053</td>\n",
       "    </tr>\n",
       "    <tr>\n",
       "      <th>2</th>\n",
       "      <td>3</td>\n",
       "      <td>0</td>\n",
       "      <td>12/7/2009</td>\n",
       "      <td>ADESA</td>\n",
       "      <td>2005</td>\n",
       "      <td>4</td>\n",
       "      <td>DODGE</td>\n",
       "      <td>STRATUS V6</td>\n",
       "      <td>SXT</td>\n",
       "      <td>4D SEDAN SXT FFV</td>\n",
       "      <td>...</td>\n",
       "      <td>7146.0</td>\n",
       "      <td>8702.0</td>\n",
       "      <td>NaN</td>\n",
       "      <td>NaN</td>\n",
       "      <td>19638</td>\n",
       "      <td>33619</td>\n",
       "      <td>FL</td>\n",
       "      <td>4900.0</td>\n",
       "      <td>0</td>\n",
       "      <td>1389</td>\n",
       "    </tr>\n",
       "    <tr>\n",
       "      <th>3</th>\n",
       "      <td>4</td>\n",
       "      <td>0</td>\n",
       "      <td>12/7/2009</td>\n",
       "      <td>ADESA</td>\n",
       "      <td>2004</td>\n",
       "      <td>5</td>\n",
       "      <td>DODGE</td>\n",
       "      <td>NEON</td>\n",
       "      <td>SXT</td>\n",
       "      <td>4D SEDAN</td>\n",
       "      <td>...</td>\n",
       "      <td>4375.0</td>\n",
       "      <td>5518.0</td>\n",
       "      <td>NaN</td>\n",
       "      <td>NaN</td>\n",
       "      <td>19638</td>\n",
       "      <td>33619</td>\n",
       "      <td>FL</td>\n",
       "      <td>4100.0</td>\n",
       "      <td>0</td>\n",
       "      <td>630</td>\n",
       "    </tr>\n",
       "    <tr>\n",
       "      <th>4</th>\n",
       "      <td>5</td>\n",
       "      <td>0</td>\n",
       "      <td>12/7/2009</td>\n",
       "      <td>ADESA</td>\n",
       "      <td>2005</td>\n",
       "      <td>4</td>\n",
       "      <td>FORD</td>\n",
       "      <td>FOCUS</td>\n",
       "      <td>ZX3</td>\n",
       "      <td>2D COUPE ZX3</td>\n",
       "      <td>...</td>\n",
       "      <td>6739.0</td>\n",
       "      <td>7911.0</td>\n",
       "      <td>NaN</td>\n",
       "      <td>NaN</td>\n",
       "      <td>19638</td>\n",
       "      <td>33619</td>\n",
       "      <td>FL</td>\n",
       "      <td>4000.0</td>\n",
       "      <td>0</td>\n",
       "      <td>1020</td>\n",
       "    </tr>\n",
       "  </tbody>\n",
       "</table>\n",
       "<p>5 rows × 34 columns</p>\n",
       "</div>"
      ],
      "text/plain": [
       "   RefId  IsBadBuy  PurchDate Auction  VehYear  VehicleAge   Make  \\\n",
       "0      1         0  12/7/2009   ADESA     2006           3  MAZDA   \n",
       "1      2         0  12/7/2009   ADESA     2004           5  DODGE   \n",
       "2      3         0  12/7/2009   ADESA     2005           4  DODGE   \n",
       "3      4         0  12/7/2009   ADESA     2004           5  DODGE   \n",
       "4      5         0  12/7/2009   ADESA     2005           4   FORD   \n",
       "\n",
       "                 Model Trim           SubModel      ...       \\\n",
       "0               MAZDA3    i         4D SEDAN I      ...        \n",
       "1  1500 RAM PICKUP 2WD   ST  QUAD CAB 4.7L SLT      ...        \n",
       "2           STRATUS V6  SXT   4D SEDAN SXT FFV      ...        \n",
       "3                 NEON  SXT           4D SEDAN      ...        \n",
       "4                FOCUS  ZX3       2D COUPE ZX3      ...        \n",
       "\n",
       "  MMRCurrentRetailAveragePrice MMRCurrentRetailCleanPrice  PRIMEUNIT AUCGUART  \\\n",
       "0                      11597.0                    12409.0        NaN      NaN   \n",
       "1                      11374.0                    12791.0        NaN      NaN   \n",
       "2                       7146.0                     8702.0        NaN      NaN   \n",
       "3                       4375.0                     5518.0        NaN      NaN   \n",
       "4                       6739.0                     7911.0        NaN      NaN   \n",
       "\n",
       "   BYRNO VNZIP1 VNST VehBCost  IsOnlineSale  WarrantyCost  \n",
       "0  21973  33619   FL   7100.0             0          1113  \n",
       "1  19638  33619   FL   7600.0             0          1053  \n",
       "2  19638  33619   FL   4900.0             0          1389  \n",
       "3  19638  33619   FL   4100.0             0           630  \n",
       "4  19638  33619   FL   4000.0             0          1020  \n",
       "\n",
       "[5 rows x 34 columns]"
      ]
     },
     "execution_count": 6,
     "metadata": {},
     "output_type": "execute_result"
    }
   ],
   "source": [
    "df.head()"
   ]
  },
  {
   "cell_type": "code",
   "execution_count": 7,
   "metadata": {},
   "outputs": [],
   "source": [
    "df.PurchDate = pd.to_datetime(df.PurchDate)\n",
    "df['pyear'] = df['PurchDate'].dt.year.astype(int)\n",
    "df['pmonth'] = df['PurchDate'].dt.month.astype(int)\n",
    "df['pday'] = df['PurchDate'].dt.day.astype(int)\n",
    "#Drop the date and other columns\n",
    "df.drop(['RefId', 'BYRNO', 'AUCGUART', 'PRIMEUNIT',\n",
    "         'VNZIP1','WheelType', 'VehYear','PurchDate'],1,inplace=True)\n"
   ]
  },
  {
   "cell_type": "code",
   "execution_count": 8,
   "metadata": {
    "scrolled": true
   },
   "outputs": [
    {
     "name": "stdout",
     "output_type": "stream",
     "text": [
      "Trim\n",
      "Number of missing lemons: 374\n",
      "WheelTypeID\n",
      "Number of missing lemons: 2236\n"
     ]
    }
   ],
   "source": [
    "dnull = df.isnull().sum()\n",
    "dnullsearch = dnull[dnull>500]\n",
    "for i in dnullsearch.index:\n",
    "    comp = df.loc[(df[i].isnull())&(df.IsBadBuy == 1)]\n",
    "    print(i)\n",
    "    print('Number of missing lemons: {}'.format(len(comp)))"
   ]
  },
  {
   "cell_type": "markdown",
   "metadata": {},
   "source": [
    "If we drop the nulls now, we would lose 2236 lemons, this could negatively impact the model"
   ]
  },
  {
   "cell_type": "code",
   "execution_count": 9,
   "metadata": {},
   "outputs": [],
   "source": [
    "#Fill missing with most common type\n",
    "df = df.fillna(df['WheelTypeID'].value_counts().index[0])\n",
    "df = df.fillna(df['Trim'].value_counts().index[0])"
   ]
  },
  {
   "cell_type": "code",
   "execution_count": 10,
   "metadata": {},
   "outputs": [],
   "source": [
    "df.dropna(inplace=True)\n",
    "#add 1 to vehicle age (for math)\n",
    "df.VehicleAge = [x+1 for x in df.VehicleAge]"
   ]
  },
  {
   "cell_type": "markdown",
   "metadata": {},
   "source": [
    "We split the date into their respective components.\n",
    " - Drop columns RefID and BYRNO as these are unique identifiers and could reduce the accuracy.\n",
    " - Drop AUGGUART and PRIMEUNIT for missing data (mostly null)\n",
    " - Drop VNZIP,WheelType,VehYear, PurchDate as there are other featers in the data to respresent them\n",
    " - Fill missing WheelType ID with most common in the set\n",
    " - Drop nulls\n",
    " - Add 1 year to vehicle age. mathematical convenienve."
   ]
  },
  {
   "cell_type": "code",
   "execution_count": 11,
   "metadata": {
    "scrolled": true
   },
   "outputs": [
    {
     "name": "stdout",
     "output_type": "stream",
     "text": [
      "(72983, 29)\n"
     ]
    },
    {
     "data": {
      "text/html": [
       "<div>\n",
       "<style scoped>\n",
       "    .dataframe tbody tr th:only-of-type {\n",
       "        vertical-align: middle;\n",
       "    }\n",
       "\n",
       "    .dataframe tbody tr th {\n",
       "        vertical-align: top;\n",
       "    }\n",
       "\n",
       "    .dataframe thead th {\n",
       "        text-align: right;\n",
       "    }\n",
       "</style>\n",
       "<table border=\"1\" class=\"dataframe\">\n",
       "  <thead>\n",
       "    <tr style=\"text-align: right;\">\n",
       "      <th></th>\n",
       "      <th>IsBadBuy</th>\n",
       "      <th>Auction</th>\n",
       "      <th>VehicleAge</th>\n",
       "      <th>Make</th>\n",
       "      <th>Model</th>\n",
       "      <th>Trim</th>\n",
       "      <th>SubModel</th>\n",
       "      <th>Color</th>\n",
       "      <th>Transmission</th>\n",
       "      <th>WheelTypeID</th>\n",
       "      <th>...</th>\n",
       "      <th>MMRCurrentAuctionCleanPrice</th>\n",
       "      <th>MMRCurrentRetailAveragePrice</th>\n",
       "      <th>MMRCurrentRetailCleanPrice</th>\n",
       "      <th>VNST</th>\n",
       "      <th>VehBCost</th>\n",
       "      <th>IsOnlineSale</th>\n",
       "      <th>WarrantyCost</th>\n",
       "      <th>pyear</th>\n",
       "      <th>pmonth</th>\n",
       "      <th>pday</th>\n",
       "    </tr>\n",
       "  </thead>\n",
       "  <tbody>\n",
       "    <tr>\n",
       "      <th>0</th>\n",
       "      <td>0</td>\n",
       "      <td>ADESA</td>\n",
       "      <td>4</td>\n",
       "      <td>MAZDA</td>\n",
       "      <td>MAZDA3</td>\n",
       "      <td>i</td>\n",
       "      <td>4D SEDAN I</td>\n",
       "      <td>RED</td>\n",
       "      <td>AUTO</td>\n",
       "      <td>1.0</td>\n",
       "      <td>...</td>\n",
       "      <td>8552.0</td>\n",
       "      <td>11597.0</td>\n",
       "      <td>12409.0</td>\n",
       "      <td>FL</td>\n",
       "      <td>7100.0</td>\n",
       "      <td>0</td>\n",
       "      <td>1113</td>\n",
       "      <td>2009</td>\n",
       "      <td>12</td>\n",
       "      <td>7</td>\n",
       "    </tr>\n",
       "    <tr>\n",
       "      <th>1</th>\n",
       "      <td>0</td>\n",
       "      <td>ADESA</td>\n",
       "      <td>6</td>\n",
       "      <td>DODGE</td>\n",
       "      <td>1500 RAM PICKUP 2WD</td>\n",
       "      <td>ST</td>\n",
       "      <td>QUAD CAB 4.7L SLT</td>\n",
       "      <td>WHITE</td>\n",
       "      <td>AUTO</td>\n",
       "      <td>1.0</td>\n",
       "      <td>...</td>\n",
       "      <td>9222.0</td>\n",
       "      <td>11374.0</td>\n",
       "      <td>12791.0</td>\n",
       "      <td>FL</td>\n",
       "      <td>7600.0</td>\n",
       "      <td>0</td>\n",
       "      <td>1053</td>\n",
       "      <td>2009</td>\n",
       "      <td>12</td>\n",
       "      <td>7</td>\n",
       "    </tr>\n",
       "    <tr>\n",
       "      <th>2</th>\n",
       "      <td>0</td>\n",
       "      <td>ADESA</td>\n",
       "      <td>5</td>\n",
       "      <td>DODGE</td>\n",
       "      <td>STRATUS V6</td>\n",
       "      <td>SXT</td>\n",
       "      <td>4D SEDAN SXT FFV</td>\n",
       "      <td>MAROON</td>\n",
       "      <td>AUTO</td>\n",
       "      <td>2.0</td>\n",
       "      <td>...</td>\n",
       "      <td>5557.0</td>\n",
       "      <td>7146.0</td>\n",
       "      <td>8702.0</td>\n",
       "      <td>FL</td>\n",
       "      <td>4900.0</td>\n",
       "      <td>0</td>\n",
       "      <td>1389</td>\n",
       "      <td>2009</td>\n",
       "      <td>12</td>\n",
       "      <td>7</td>\n",
       "    </tr>\n",
       "  </tbody>\n",
       "</table>\n",
       "<p>3 rows × 29 columns</p>\n",
       "</div>"
      ],
      "text/plain": [
       "   IsBadBuy Auction  VehicleAge   Make                Model Trim  \\\n",
       "0         0   ADESA           4  MAZDA               MAZDA3    i   \n",
       "1         0   ADESA           6  DODGE  1500 RAM PICKUP 2WD   ST   \n",
       "2         0   ADESA           5  DODGE           STRATUS V6  SXT   \n",
       "\n",
       "            SubModel   Color Transmission  WheelTypeID  ...   \\\n",
       "0         4D SEDAN I     RED         AUTO          1.0  ...    \n",
       "1  QUAD CAB 4.7L SLT   WHITE         AUTO          1.0  ...    \n",
       "2   4D SEDAN SXT FFV  MAROON         AUTO          2.0  ...    \n",
       "\n",
       "   MMRCurrentAuctionCleanPrice MMRCurrentRetailAveragePrice  \\\n",
       "0                       8552.0                      11597.0   \n",
       "1                       9222.0                      11374.0   \n",
       "2                       5557.0                       7146.0   \n",
       "\n",
       "  MMRCurrentRetailCleanPrice VNST  VehBCost  IsOnlineSale  WarrantyCost  \\\n",
       "0                    12409.0   FL    7100.0             0          1113   \n",
       "1                    12791.0   FL    7600.0             0          1053   \n",
       "2                     8702.0   FL    4900.0             0          1389   \n",
       "\n",
       "   pyear  pmonth  pday  \n",
       "0   2009      12     7  \n",
       "1   2009      12     7  \n",
       "2   2009      12     7  \n",
       "\n",
       "[3 rows x 29 columns]"
      ]
     },
     "execution_count": 11,
     "metadata": {},
     "output_type": "execute_result"
    }
   ],
   "source": [
    "print(df.shape)\n",
    "df.head(3)"
   ]
  },
  {
   "cell_type": "markdown",
   "metadata": {},
   "source": [
    "## Feature Engineering"
   ]
  },
  {
   "cell_type": "code",
   "execution_count": 12,
   "metadata": {},
   "outputs": [
    {
     "data": {
      "text/html": [
       "<div>\n",
       "<style scoped>\n",
       "    .dataframe tbody tr th:only-of-type {\n",
       "        vertical-align: middle;\n",
       "    }\n",
       "\n",
       "    .dataframe tbody tr th {\n",
       "        vertical-align: top;\n",
       "    }\n",
       "\n",
       "    .dataframe thead th {\n",
       "        text-align: right;\n",
       "    }\n",
       "</style>\n",
       "<table border=\"1\" class=\"dataframe\">\n",
       "  <thead>\n",
       "    <tr style=\"text-align: right;\">\n",
       "      <th></th>\n",
       "      <th>Model</th>\n",
       "      <th>SubModel</th>\n",
       "      <th>Trim</th>\n",
       "    </tr>\n",
       "  </thead>\n",
       "  <tbody>\n",
       "    <tr>\n",
       "      <th>0</th>\n",
       "      <td>MAZDA3</td>\n",
       "      <td>4D SEDAN I</td>\n",
       "      <td>i</td>\n",
       "    </tr>\n",
       "    <tr>\n",
       "      <th>1</th>\n",
       "      <td>1500 RAM PICKUP 2WD</td>\n",
       "      <td>QUAD CAB 4.7L SLT</td>\n",
       "      <td>ST</td>\n",
       "    </tr>\n",
       "    <tr>\n",
       "      <th>2</th>\n",
       "      <td>STRATUS V6</td>\n",
       "      <td>4D SEDAN SXT FFV</td>\n",
       "      <td>SXT</td>\n",
       "    </tr>\n",
       "  </tbody>\n",
       "</table>\n",
       "</div>"
      ],
      "text/plain": [
       "                 Model           SubModel Trim\n",
       "0               MAZDA3         4D SEDAN I    i\n",
       "1  1500 RAM PICKUP 2WD  QUAD CAB 4.7L SLT   ST\n",
       "2           STRATUS V6   4D SEDAN SXT FFV  SXT"
      ]
     },
     "execution_count": 12,
     "metadata": {},
     "output_type": "execute_result"
    }
   ],
   "source": [
    "#Separate and combine columns of interest\n",
    "models = df.Model\n",
    "submods = df.SubModel\n",
    "trims = df.Trim\n",
    "chars = df[['Model','SubModel','Trim']] \n",
    "chars.head(3)"
   ]
  },
  {
   "cell_type": "code",
   "execution_count": 13,
   "metadata": {
    "scrolled": false
   },
   "outputs": [
    {
     "data": {
      "text/html": [
       "<div>\n",
       "<style scoped>\n",
       "    .dataframe tbody tr th:only-of-type {\n",
       "        vertical-align: middle;\n",
       "    }\n",
       "\n",
       "    .dataframe tbody tr th {\n",
       "        vertical-align: top;\n",
       "    }\n",
       "\n",
       "    .dataframe thead th {\n",
       "        text-align: right;\n",
       "    }\n",
       "</style>\n",
       "<table border=\"1\" class=\"dataframe\">\n",
       "  <thead>\n",
       "    <tr style=\"text-align: right;\">\n",
       "      <th></th>\n",
       "      <th>2WD</th>\n",
       "      <th>V6</th>\n",
       "      <th>4C</th>\n",
       "      <th>PICKUP</th>\n",
       "      <th>6C</th>\n",
       "      <th>FWD</th>\n",
       "      <th>4WD</th>\n",
       "      <th>AWD</th>\n",
       "      <th>SFI</th>\n",
       "      <th>EFI</th>\n",
       "      <th>...</th>\n",
       "      <th>REG</th>\n",
       "      <th>FFV</th>\n",
       "      <th>PASSENGER</th>\n",
       "      <th>SUV</th>\n",
       "      <th>SPORT</th>\n",
       "      <th>UTILITY</th>\n",
       "      <th>QUAD</th>\n",
       "      <th>COUPE</th>\n",
       "      <th>MINIVAN</th>\n",
       "      <th>CUV</th>\n",
       "    </tr>\n",
       "  </thead>\n",
       "  <tbody>\n",
       "    <tr>\n",
       "      <th>0</th>\n",
       "      <td>0</td>\n",
       "      <td>0</td>\n",
       "      <td>0</td>\n",
       "      <td>0</td>\n",
       "      <td>0</td>\n",
       "      <td>0</td>\n",
       "      <td>0</td>\n",
       "      <td>0</td>\n",
       "      <td>0</td>\n",
       "      <td>0</td>\n",
       "      <td>...</td>\n",
       "      <td>0</td>\n",
       "      <td>0</td>\n",
       "      <td>0</td>\n",
       "      <td>0</td>\n",
       "      <td>0</td>\n",
       "      <td>0</td>\n",
       "      <td>0</td>\n",
       "      <td>0</td>\n",
       "      <td>0</td>\n",
       "      <td>0</td>\n",
       "    </tr>\n",
       "    <tr>\n",
       "      <th>1</th>\n",
       "      <td>1</td>\n",
       "      <td>0</td>\n",
       "      <td>0</td>\n",
       "      <td>1</td>\n",
       "      <td>0</td>\n",
       "      <td>0</td>\n",
       "      <td>0</td>\n",
       "      <td>0</td>\n",
       "      <td>0</td>\n",
       "      <td>0</td>\n",
       "      <td>...</td>\n",
       "      <td>0</td>\n",
       "      <td>0</td>\n",
       "      <td>0</td>\n",
       "      <td>0</td>\n",
       "      <td>0</td>\n",
       "      <td>0</td>\n",
       "      <td>1</td>\n",
       "      <td>0</td>\n",
       "      <td>0</td>\n",
       "      <td>0</td>\n",
       "    </tr>\n",
       "    <tr>\n",
       "      <th>2</th>\n",
       "      <td>0</td>\n",
       "      <td>1</td>\n",
       "      <td>0</td>\n",
       "      <td>0</td>\n",
       "      <td>0</td>\n",
       "      <td>0</td>\n",
       "      <td>0</td>\n",
       "      <td>0</td>\n",
       "      <td>0</td>\n",
       "      <td>0</td>\n",
       "      <td>...</td>\n",
       "      <td>0</td>\n",
       "      <td>1</td>\n",
       "      <td>0</td>\n",
       "      <td>0</td>\n",
       "      <td>0</td>\n",
       "      <td>0</td>\n",
       "      <td>0</td>\n",
       "      <td>0</td>\n",
       "      <td>0</td>\n",
       "      <td>0</td>\n",
       "    </tr>\n",
       "  </tbody>\n",
       "</table>\n",
       "<p>3 rows × 29 columns</p>\n",
       "</div>"
      ],
      "text/plain": [
       "   2WD  V6  4C  PICKUP  6C  FWD  4WD  AWD  SFI  EFI ...   REG  FFV  PASSENGER  \\\n",
       "0    0   0   0       0   0    0    0    0    0    0 ...     0    0          0   \n",
       "1    1   0   0       1   0    0    0    0    0    0 ...     0    0          0   \n",
       "2    0   1   0       0   0    0    0    0    0    0 ...     0    1          0   \n",
       "\n",
       "   SUV  SPORT  UTILITY  QUAD  COUPE  MINIVAN  CUV  \n",
       "0    0      0        0     0      0        0    0  \n",
       "1    0      0        0     1      0        0    0  \n",
       "2    0      0        0     0      0        0    0  \n",
       "\n",
       "[3 rows x 29 columns]"
      ]
     },
     "execution_count": 13,
     "metadata": {},
     "output_type": "execute_result"
    }
   ],
   "source": [
    "#create keyword list for model characteristics\n",
    "mod_chars = ['2WD','V6','4C','PICKUP','6C','FWD',\n",
    "             '4WD','AWD','SFI','EFI','DOHC','I4','MPI']\n",
    "\n",
    "#create keyowrd list for submodel characteristics\n",
    "submod_chars = ['SEDAN','4D','EXT','CAB','2D','CAB','WAGON',\n",
    "                'REG','FFV','PASSENGER','SUV','SPORT',\n",
    "                'UTILITY','QUAD','COUPE','MINIVAN','CUV']\n",
    "\n",
    "#Create a dataframe and extract keywords from model and submodel.\n",
    "sub_val_sets, mod_val_sets = pd.DataFrame(),pd.DataFrame()\n",
    "\n",
    "for key in submod_chars:\n",
    "    subs = np.where(submods.str.contains(key),1,0) #create array for dummied char prescence    \n",
    "    sub_val_sets[key] = subs #insert to dataframe\n",
    "for key in mod_chars:\n",
    "    mods = np.where(models.str.contains(key),1,0)\n",
    "    mod_val_sets[key] = mods\n",
    "\n",
    "#combine the two characteristic sets\n",
    "char_dummies = pd.concat([mod_val_sets,sub_val_sets],axis=1)  \n",
    "\n",
    "#remove engine displacement size\n",
    "displacement = chars.SubModel.str.split('.').reset_index()\n",
    "\n",
    "\n",
    "#Only keep entries with engine size len(Submodel) == 2\n",
    "disp_ok = []\n",
    "modls = list(displacement.SubModel.dropna())\n",
    "for i in modls:\n",
    "    if len(i) == 2:\n",
    "        disp_ok.append(i)\n",
    "        \n",
    "#Finally take the last element from 1st list, insert '.' add lasr element of 2nd list\n",
    "displacements = []\n",
    "for i in range(len(disp_ok)):\n",
    "    beg = disp_ok[i][0][-1]\n",
    "    end = disp_ok[i][1][0]\n",
    "    whole = beg+'.'+end\n",
    "    displacements.append(whole)\n",
    "displacements = pd.Series(displacements)\n",
    "ds_val_cnts = displacements.value_counts().reset_index()\n",
    "\n",
    "#create dummie matrix for engine displacements\n",
    "disp_keys = pd.DataFrame()\n",
    "for key in ds_val_cnts['index']:\n",
    "    dsps = np.where(df.SubModel.str.contains(key),1,0) #create array for dummied char prescence    \n",
    "    disp_keys[key] = dsps #insert to dataframe\n",
    "char_dummies.head(3)"
   ]
  },
  {
   "cell_type": "code",
   "execution_count": 14,
   "metadata": {},
   "outputs": [
    {
     "data": {
      "text/html": [
       "<div>\n",
       "<style scoped>\n",
       "    .dataframe tbody tr th:only-of-type {\n",
       "        vertical-align: middle;\n",
       "    }\n",
       "\n",
       "    .dataframe tbody tr th {\n",
       "        vertical-align: top;\n",
       "    }\n",
       "\n",
       "    .dataframe thead th {\n",
       "        text-align: right;\n",
       "    }\n",
       "</style>\n",
       "<table border=\"1\" class=\"dataframe\">\n",
       "  <thead>\n",
       "    <tr style=\"text-align: right;\">\n",
       "      <th></th>\n",
       "      <th>3.5</th>\n",
       "      <th>4.2</th>\n",
       "      <th>3.3</th>\n",
       "      <th>4.7</th>\n",
       "      <th>3.0</th>\n",
       "      <th>3.9</th>\n",
       "      <th>2.2</th>\n",
       "      <th>4.6</th>\n",
       "      <th>4.0</th>\n",
       "      <th>2.7</th>\n",
       "      <th>...</th>\n",
       "      <th>5.6</th>\n",
       "      <th>2.8</th>\n",
       "      <th>2.0</th>\n",
       "      <th>5.9</th>\n",
       "      <th>6.0</th>\n",
       "      <th>3.6</th>\n",
       "      <th>2.9</th>\n",
       "      <th>5.2</th>\n",
       "      <th>8.1</th>\n",
       "      <th>6.2</th>\n",
       "    </tr>\n",
       "  </thead>\n",
       "  <tbody>\n",
       "    <tr>\n",
       "      <th>0</th>\n",
       "      <td>0</td>\n",
       "      <td>0</td>\n",
       "      <td>0</td>\n",
       "      <td>0</td>\n",
       "      <td>0</td>\n",
       "      <td>0</td>\n",
       "      <td>0</td>\n",
       "      <td>0</td>\n",
       "      <td>0</td>\n",
       "      <td>0</td>\n",
       "      <td>...</td>\n",
       "      <td>0</td>\n",
       "      <td>0</td>\n",
       "      <td>0</td>\n",
       "      <td>0</td>\n",
       "      <td>0</td>\n",
       "      <td>0</td>\n",
       "      <td>0</td>\n",
       "      <td>0</td>\n",
       "      <td>0</td>\n",
       "      <td>0</td>\n",
       "    </tr>\n",
       "    <tr>\n",
       "      <th>1</th>\n",
       "      <td>0</td>\n",
       "      <td>0</td>\n",
       "      <td>0</td>\n",
       "      <td>1</td>\n",
       "      <td>0</td>\n",
       "      <td>0</td>\n",
       "      <td>0</td>\n",
       "      <td>0</td>\n",
       "      <td>0</td>\n",
       "      <td>0</td>\n",
       "      <td>...</td>\n",
       "      <td>0</td>\n",
       "      <td>0</td>\n",
       "      <td>0</td>\n",
       "      <td>0</td>\n",
       "      <td>0</td>\n",
       "      <td>0</td>\n",
       "      <td>0</td>\n",
       "      <td>0</td>\n",
       "      <td>0</td>\n",
       "      <td>0</td>\n",
       "    </tr>\n",
       "    <tr>\n",
       "      <th>2</th>\n",
       "      <td>0</td>\n",
       "      <td>0</td>\n",
       "      <td>0</td>\n",
       "      <td>0</td>\n",
       "      <td>0</td>\n",
       "      <td>0</td>\n",
       "      <td>0</td>\n",
       "      <td>0</td>\n",
       "      <td>0</td>\n",
       "      <td>0</td>\n",
       "      <td>...</td>\n",
       "      <td>0</td>\n",
       "      <td>0</td>\n",
       "      <td>0</td>\n",
       "      <td>0</td>\n",
       "      <td>0</td>\n",
       "      <td>0</td>\n",
       "      <td>0</td>\n",
       "      <td>0</td>\n",
       "      <td>0</td>\n",
       "      <td>0</td>\n",
       "    </tr>\n",
       "  </tbody>\n",
       "</table>\n",
       "<p>3 rows × 32 columns</p>\n",
       "</div>"
      ],
      "text/plain": [
       "   3.5  4.2  3.3  4.7  3.0  3.9  2.2  4.6  4.0  2.7 ...   5.6  2.8  2.0  5.9  \\\n",
       "0    0    0    0    0    0    0    0    0    0    0 ...     0    0    0    0   \n",
       "1    0    0    0    1    0    0    0    0    0    0 ...     0    0    0    0   \n",
       "2    0    0    0    0    0    0    0    0    0    0 ...     0    0    0    0   \n",
       "\n",
       "   6.0  3.6  2.9  5.2  8.1  6.2  \n",
       "0    0    0    0    0    0    0  \n",
       "1    0    0    0    0    0    0  \n",
       "2    0    0    0    0    0    0  \n",
       "\n",
       "[3 rows x 32 columns]"
      ]
     },
     "execution_count": 14,
     "metadata": {},
     "output_type": "execute_result"
    }
   ],
   "source": [
    "disp_keys.head(3)"
   ]
  },
  {
   "cell_type": "code",
   "execution_count": 15,
   "metadata": {},
   "outputs": [],
   "source": [
    "#Isolate continuous attributes\n",
    "plodf= df[['MMRAcquisitionAuctionAveragePrice', 'MMRAcquisitionAuctionCleanPrice',\n",
    " 'MMRAcquisitionRetailAveragePrice', 'MMRAcquisitonRetailCleanPrice',\n",
    " 'MMRCurrentAuctionAveragePrice', 'MMRCurrentAuctionCleanPrice',\n",
    " 'MMRCurrentRetailAveragePrice', 'MMRCurrentRetailCleanPrice',\n",
    " 'VehicleAge','VehOdo','WarrantyCost','IsBadBuy']].copy()\n",
    "plodf.dropna(inplace=True)\n",
    "#transform and reduce\n",
    "plodf['crcp_cacp'] = plodf.MMRCurrentRetailCleanPrice - plodf.MMRCurrentAuctionCleanPrice\n",
    "plodf['crcp_cacp_war'] = plodf['crcp_cacp']* df.WarrantyCost/df.VehicleAge\n",
    "plodf['log_war_age'] = df.WarrantyCost/df.VehicleAge\n",
    "plodf['odo_age'] = np.log(df.VehOdo/df.VehicleAge)\n",
    "        \n",
    "cont_df = plodf[['odo_age','log_war_age','crcp_cacp_war']]"
   ]
  },
  {
   "cell_type": "code",
   "execution_count": 16,
   "metadata": {},
   "outputs": [],
   "source": [
    "#combine the four new feature dataframes\n",
    "mod_val_sets.reset_index(drop=True,inplace=True)\n",
    "sub_val_sets.reset_index(drop=True,inplace=True)\n",
    "disp_keys.reset_index(drop=True,inplace=True)\n",
    "cont_df.reset_index(drop=True,inplace=True)\n",
    "\n",
    "add_feats = pd.concat([mod_val_sets,sub_val_sets,disp_keys,cont_df],axis=1)\n",
    "\n",
    "#combine new features to our existing attributes\n",
    "df.reset_index(drop=True,inplace=True)\n",
    "model_df = pd.concat([df,add_feats],axis=1)\n",
    "\n",
    "#general clean up\n",
    "model_df.drop(['SubModel'],1,inplace=True)\n",
    "model_df.Model = model_df.Model.str.split().str[0].str.strip()\n",
    "model_df.Transmission = np.where(model_df.Transmission == 'AUTO',1,0)\n"
   ]
  },
  {
   "cell_type": "markdown",
   "metadata": {},
   "source": [
    "## Preprocessing"
   ]
  },
  {
   "cell_type": "code",
   "execution_count": 17,
   "metadata": {
    "scrolled": true
   },
   "outputs": [
    {
     "name": "stderr",
     "output_type": "stream",
     "text": [
      "/root/.pyenv/versions/jupyter3/lib/python3.6/site-packages/ipykernel_launcher.py:52: DataConversionWarning:\n",
      "\n",
      "Data with input dtype int64, float64 were all converted to float64 by StandardScaler.\n",
      "\n"
     ]
    }
   ],
   "source": [
    "#Choose the columns to scale to avoid scaling binary data)\n",
    "scale_cols = ['VehicleAge','MMRAcquisitionAuctionAveragePrice', 'VehOdo',\n",
    "       'MMRAcquisitionAuctionCleanPrice', 'MMRAcquisitionRetailAveragePrice',\n",
    "       'MMRAcquisitonRetailCleanPrice', 'MMRCurrentAuctionAveragePrice',\n",
    "       'MMRCurrentAuctionCleanPrice', 'MMRCurrentRetailAveragePrice',\n",
    "       'MMRCurrentRetailCleanPrice','WarrantyCost','odo_age', 'log_war_age', 'crcp_cacp_war']\n",
    "scale = CustomScaler(columns=scale_cols)\n",
    "\n",
    "#Scale the model df\n",
    "model_df = scale.fit_transform(model_df)"
   ]
  },
  {
   "cell_type": "code",
   "execution_count": 18,
   "metadata": {},
   "outputs": [],
   "source": [
    "#oversample the data that the model will be trained on, test it on the other half, capture features\n",
    "X = model_df.drop(['IsBadBuy'],1)\n",
    "X = pd.get_dummies(X)\n",
    "y = model_df.IsBadBuy\n",
    "#split the data\n",
    "X_train1,X_test1,y_train1,y_test1 = train_test_split(X,y,test_size=.35,random_state=43)\n",
    "#smote the training set\n",
    "sm = SMOTE(random_state=43,sampling_strategy=.5)\n",
    "\n",
    "X_res, y_res = sm.fit_resample(X_train1,y_train1)\n",
    "\n",
    "X_train2,X_test2,y_train2,y_test2 = train_test_split(X_res,y_res,test_size=.5,random_state=43)"
   ]
  },
  {
   "cell_type": "code",
   "execution_count": 102,
   "metadata": {},
   "outputs": [
    {
     "data": {
      "text/plain": [
       "RandomForestClassifier(bootstrap=True, class_weight={0: 1, 1: 4},\n",
       "            criterion='entropy', max_depth=12, max_features='auto',\n",
       "            max_leaf_nodes=None, min_impurity_decrease=0.0,\n",
       "            min_impurity_split=None, min_samples_leaf=4,\n",
       "            min_samples_split=2, min_weight_fraction_leaf=0.0,\n",
       "            n_estimators=700, n_jobs=None, oob_score=False,\n",
       "            random_state=None, verbose=0, warm_start=False)"
      ]
     },
     "execution_count": 102,
     "metadata": {},
     "output_type": "execute_result"
    }
   ],
   "source": [
    "rfc = ensemble.RandomForestClassifier(class_weight={0:1,1:4}, criterion='entropy', max_depth=12,\n",
    "                                      min_samples_leaf=4, min_samples_split=2, n_estimators=700)\n",
    "\n",
    "rfc.fit(X_train2,y_train2)\n"
   ]
  },
  {
   "cell_type": "code",
   "execution_count": 105,
   "metadata": {},
   "outputs": [
    {
     "name": "stdout",
     "output_type": "stream",
     "text": [
      "\n",
      "\t\tClassification Report: RFC\n",
      "\n",
      "              precision    recall  f1-score   support\n",
      "\n",
      "           0       0.92      0.73      0.81     22462\n",
      "           1       0.21      0.54      0.31      3083\n",
      "\n",
      "   micro avg       0.70      0.70      0.70     25545\n",
      "   macro avg       0.57      0.63      0.56     25545\n",
      "weighted avg       0.84      0.70      0.75     25545\n",
      "\n",
      "ROC_AUC SCORE: 0.63\n",
      "Gini Index:0.2717\n"
     ]
    },
    {
     "data": {
      "image/png": "[encoded data removed]",
      "text/plain": [
       "<Figure size 432x288 with 2 Axes>"
      ]
     },
     "metadata": {},
     "output_type": "display_data"
    }
   ],
   "source": [
    "y_pred = rfc.predict(X_test1)\n",
    "print('\\n\\t\\tClassification Report: RFC\\n')\n",
    "print(classification_report(y_test1,y_pred))\n",
    "print(\"ROC_AUC SCORE: {}\".format(round(roc_auc_score(y_test1,y_pred),2)))\n",
    "print('Gini Index:{}'.format(round(Gini(y_test1,y_pred),4)))\n",
    "conmat = confusion_matrix(y_test1,y_pred)\n",
    "sns.heatmap(conmat,annot=True,fmt='d',cmap='mako_r',cbar=True)\n",
    "plt.show()"
   ]
  },
  {
   "cell_type": "code",
   "execution_count": 106,
   "metadata": {},
   "outputs": [],
   "source": [
    "feature_sigs = pd.DataFrame(\n",
    "    sorted(zip(map(lambda x: round(x, 4), rfc.feature_importances_), \n",
    "               X.columns), reverse=True))\n",
    "feature_sigs.head()\n",
    "sig_feats = feature_sigs[feature_sigs[0]>0][1]\n",
    "\n",
    "\n",
    "new_mod = pd.get_dummies(model_df)\n",
    "target = new_mod.IsBadBuy #just in case\n",
    "new_mod = new_mod[sig_feats]"
   ]
  },
  {
   "cell_type": "code",
   "execution_count": 107,
   "metadata": {},
   "outputs": [
    {
     "data": {
      "text/plain": [
       "256"
      ]
     },
     "execution_count": 107,
     "metadata": {},
     "output_type": "execute_result"
    }
   ],
   "source": [
    "len(new_mod.columns)"
   ]
  },
  {
   "cell_type": "code",
   "execution_count": 108,
   "metadata": {},
   "outputs": [
    {
     "name": "stdout",
     "output_type": "stream",
     "text": [
      "(72983, 256)\n",
      "(96010, 256)\n"
     ]
    }
   ],
   "source": [
    "X = new_mod\n",
    "y = model_df.IsBadBuy\n",
    "#split the data\n",
    "print(X.shape)\n",
    "\n",
    "#smote the training set\n",
    "sm = SMOTE(random_state=43,sampling_strategy=.5)\n",
    "\n",
    "X_res, y_res = sm.fit_resample(X,y)\n",
    "print(X_res.shape)\n",
    "\n",
    "X_train,X_test,y_train,y_test = train_test_split(X_res,y_res,test_size=.5,random_state=43)"
   ]
  },
  {
   "cell_type": "code",
   "execution_count": null,
   "metadata": {},
   "outputs": [],
   "source": [
    "params = {'n_estimators': 700,\n",
    "                      'max_depth': 12,\n",
    "                      'criterion': 'entropy',\n",
    "                      'min_samples_leaf':4,\n",
    "                      'min_samples_split':2\n",
    "                      'class_weight':'balanced'}\n",
    "# Initialize and fit the model.\n",
    "clf = ensemble.RandomForestClassifier(**params)\n",
    "clf.fit(X_train, y_train)"
   ]
  },
  {
   "cell_type": "code",
   "execution_count": 111,
   "metadata": {},
   "outputs": [
    {
     "name": "stdout",
     "output_type": "stream",
     "text": [
      "\n",
      "\t\tClassification Report: RFC\n",
      "\n",
      "              precision    recall  f1-score   support\n",
      "\n",
      "           0       0.87      1.00      0.93     32102\n",
      "           1       1.00      0.69      0.81     15903\n",
      "\n",
      "   micro avg       0.90      0.90      0.90     48005\n",
      "   macro avg       0.93      0.84      0.87     48005\n",
      "weighted avg       0.91      0.90      0.89     48005\n",
      "\n",
      "ROC_AUC SCORE: 0.84\n",
      "Gini Index:0.6822\n"
     ]
    },
    {
     "data": {
      "image/png": "[encoded data removed]",
      "text/plain": [
       "<Figure size 432x288 with 2 Axes>"
      ]
     },
     "metadata": {},
     "output_type": "display_data"
    }
   ],
   "source": [
    "y_pred = clf.predict(X_test)\n",
    "print('\\n\\t\\tClassification Report: RFC\\n')\n",
    "print(classification_report(y_test,y_pred))\n",
    "print(\"ROC_AUC SCORE: {}\".format(round(roc_auc_score(y_test,y_pred),2)))\n",
    "print('Gini Index:{}'.format(round(Gini(y_test,y_pred),4)))\n",
    "conmat = confusion_matrix(y_test,y_pred)\n",
    "sns.heatmap(conmat,annot=True,fmt='d',cmap='mako_r',cbar=True)\n",
    "plt.show()"
   ]
  },
  {
   "cell_type": "code",
   "execution_count": 114,
   "metadata": {},
   "outputs": [],
   "source": [
    "feature_sigs = pd.DataFrame(\n",
    "    sorted(zip(map(lambda x: round(x, 4), clf.feature_importances_), \n",
    "               X.columns), reverse=True))\n",
    "feature_sigs.head()\n",
    "sig_feats = feature_sigs[feature_sigs[0]>0][1]\n",
    "\n",
    "\n"
   ]
  },
  {
   "cell_type": "code",
   "execution_count": 115,
   "metadata": {},
   "outputs": [],
   "source": [
    "new_mod1 = pd.get_dummies(model_df)\n",
    "target = new_mod1.IsBadBuy #just in case\n",
    "new_mod1 = new_mod1[sig_feats]"
   ]
  },
  {
   "cell_type": "code",
   "execution_count": 116,
   "metadata": {},
   "outputs": [
    {
     "name": "stdout",
     "output_type": "stream",
     "text": [
      "(72983, 216)\n",
      "(96010, 216)\n"
     ]
    }
   ],
   "source": [
    "X = new_mod1\n",
    "y = model_df.IsBadBuy\n",
    "#split the data\n",
    "print(X.shape)\n",
    "\n",
    "#smote the training set\n",
    "sm = SMOTE(random_state=43,sampling_strategy=.5)\n",
    "\n",
    "X_res, y_res = sm.fit_resample(X,y)\n",
    "print(X_res.shape)\n",
    "\n",
    "X_train,X_test,y_train,y_test = train_test_split(X_res,y_res,test_size=.5,random_state=43)"
   ]
  },
  {
   "cell_type": "code",
   "execution_count": 117,
   "metadata": {},
   "outputs": [
    {
     "data": {
      "text/plain": [
       "RandomForestClassifier(bootstrap=True, class_weight=None, criterion='entropy',\n",
       "            max_depth=12, max_features='auto', max_leaf_nodes=None,\n",
       "            min_impurity_decrease=0.0, min_impurity_split=None,\n",
       "            min_samples_leaf=2, min_samples_split=4,\n",
       "            min_weight_fraction_leaf=0.0, n_estimators=700, n_jobs=None,\n",
       "            oob_score=False, random_state=None, verbose=0,\n",
       "            warm_start=False)"
      ]
     },
     "execution_count": 117,
     "metadata": {},
     "output_type": "execute_result"
    }
   ],
   "source": [
    "params = {'n_estimators': 700,\n",
    "                      'max_depth': 12,\n",
    "                      'criterion': 'entropy',\n",
    "                      'min_samples_leaf':2,\n",
    "                      'min_samples_split':4}\n",
    "# Initialize and fit the model.\n",
    "clf = ensemble.RandomForestClassifier(**params)\n",
    "clf.fit(X_train, y_train)"
   ]
  },
  {
   "cell_type": "code",
   "execution_count": 120,
   "metadata": {},
   "outputs": [
    {
     "name": "stdout",
     "output_type": "stream",
     "text": [
      "\n",
      "\t\tClassification Report: RFC\n",
      "\n",
      "              precision    recall  f1-score   support\n",
      "\n",
      "           0       0.87      1.00      0.93     32102\n",
      "           1       1.00      0.69      0.81     15903\n",
      "\n",
      "   micro avg       0.90      0.90      0.90     48005\n",
      "   macro avg       0.93      0.84      0.87     48005\n",
      "weighted avg       0.91      0.90      0.89     48005\n",
      "\n",
      "ROC_AUC SCORE: 0.84\n",
      "Gini Index:0.6846\n"
     ]
    },
    {
     "data": {
      "image/png": "[encoded data removed]",
      "text/plain": [
       "<Figure size 432x288 with 2 Axes>"
      ]
     },
     "metadata": {},
     "output_type": "display_data"
    }
   ],
   "source": [
    "y_pred = clf.predict(X_test)\n",
    "print('\\n\\t\\tClassification Report: RFC\\n')\n",
    "print(classification_report(y_test,y_pred))\n",
    "print(\"ROC_AUC SCORE: {}\".format(round(roc_auc_score(y_test,y_pred),2)))\n",
    "print('Gini Index:{}'.format(round(Gini(y_test,y_pred),4)))\n",
    "conmat = confusion_matrix(y_test,y_pred)\n",
    "sns.heatmap(conmat,annot=True,fmt='d',cmap='mako_r',cbar=True)\n",
    "plt.show()"
   ]
  },
  {
   "cell_type": "code",
   "execution_count": null,
   "metadata": {},
   "outputs": [],
   "source": [
    "scoring = ['precision_macro', 'recall_macro', 'roc_auc']\n",
    "cv = ShuffleSplit(n_splits=5, test_size=0.3, random_state=0)\n",
    "\n",
    "\n",
    "scores = cross_validate(clf,X_res ,y_res, scoring=scoring,\n",
    "                        cv=5, return_train_score=False)\n",
    "sorted(scores.keys())\n",
    "\n",
    "scores['test_recall_macro']                       \n"
   ]
  },
  {
   "cell_type": "code",
   "execution_count": 27,
   "metadata": {
    "scrolled": false
   },
   "outputs": [],
   "source": [
    "test_mod = model_df.drop(['Trim'],axis=1)\n",
    "test_mod.drop(['6.2','8.1','3.3','6C','PICKUP'],1,inplace=True)"
   ]
  },
  {
   "cell_type": "code",
   "execution_count": 31,
   "metadata": {},
   "outputs": [
    {
     "name": "stdout",
     "output_type": "stream",
     "text": [
      "(96010, 437)\n"
     ]
    },
    {
     "data": {
      "image/png": "[encoded data removed]",
      "text/plain": [
       "<Figure size 720x720 with 1 Axes>"
      ]
     },
     "metadata": {},
     "output_type": "display_data"
    }
   ],
   "source": [
    "X = test_mod.drop(['IsBadBuy'],1)\n",
    "y = test_mod.IsBadBuy\n",
    "X = pd.get_dummies(X)\n",
    "sm = SMOTE(random_state=43,sampling_strategy=.5)\n",
    "\n",
    "X_res, y_res = sm.fit_resample(X,y)\n",
    "print(X_res.shape)\n",
    "\n",
    "X_train,X_test,y_train,y_test = train_test_split(X_res,y_res,test_size=.5,random_state=43)\n",
    "\n",
    "params = {'n_estimators': 700,\n",
    "                      'max_depth': 12,\n",
    "                      'loss': 'deviance',\n",
    "                      'min_samples_leaf':2,\n",
    "                      'min_samples_split':4}\n",
    "\n",
    "clf = ensemble.GradientBoostingClassifier(**params)\n",
    "clf.fit(X_train, y_train)\n",
    "acc = clf.score(X_test,y_test)\n",
    "\n",
    "# get roc/auc info\n",
    "Y_score = clf.predict_proba(X_test)[:,1]\n",
    "fpr = dict()\n",
    "tpr = dict()\n",
    "fpr, tpr, _ = roc_curve(y_test, Y_score)\n",
    "\n",
    "roc_auc = dict()\n",
    "roc_auc = auc(fpr, tpr)\n",
    "\n",
    "# make the plot\n",
    "plt.figure(figsize=(10,10))\n",
    "plt.plot([0, 1], [0, 1], 'k--')\n",
    "plt.xlim([-0.05, 1.0])\n",
    "plt.ylim([0.0, 1.05])\n",
    "plt.xlabel('False Positive Rate')\n",
    "plt.ylabel('True Positive Rate')\n",
    "plt.grid(True)\n",
    "plt.plot(fpr, tpr, label='AUC = {0}'.format(roc_auc))        \n",
    "plt.legend(loc=\"lower right\", shadow=True, fancybox =True) \n",
    "plt.show()\n",
    "\n"
   ]
  },
  {
   "cell_type": "code",
   "execution_count": 32,
   "metadata": {},
   "outputs": [
    {
     "name": "stdout",
     "output_type": "stream",
     "text": [
      "\n",
      "\t\tClassification Report: RFC\n",
      "\n",
      "              precision    recall  f1-score   support\n",
      "\n",
      "           0       0.88      0.99      0.93     32102\n",
      "           1       0.97      0.74      0.84     15903\n",
      "\n",
      "   micro avg       0.90      0.90      0.90     48005\n",
      "   macro avg       0.92      0.86      0.88     48005\n",
      "weighted avg       0.91      0.90      0.90     48005\n",
      "\n",
      "ROC_AUC SCORE: 0.86\n",
      "Gini Index:0.7239\n"
     ]
    },
    {
     "data": {
      "image/png": "[encoded data removed]",
      "text/plain": [
       "<Figure size 432x288 with 2 Axes>"
      ]
     },
     "metadata": {},
     "output_type": "display_data"
    }
   ],
   "source": [
    "y_pred = clf.predict(X_test)\n",
    "print('\\n\\t\\tClassification Report: Gradient Boosting Classifier \\n')\n",
    "print(classification_report(y_test,y_pred))\n",
    "print(\"ROC_AUC SCORE: {}\".format(round(roc_auc_score(y_test,y_pred),2)))\n",
    "print('Gini Index:{}'.format(round(Gini(y_test,y_pred),4)))\n",
    "conmat = confusion_matrix(y_test,y_pred)\n",
    "sns.heatmap(conmat,annot=True,fmt='d',cmap='mako_r',cbar=True)\n",
    "plt.show()"
   ]
  },
  {
   "cell_type": "code",
   "execution_count": 33,
   "metadata": {},
   "outputs": [],
   "source": [
    "def lorenz_curve(X):\n",
    "    X_lorenz = X.cumsum() / X.sum()\n",
    "    X_lorenz = np.insert(X_lorenz, 0, 0) \n",
    "    X_lorenz[0], X_lorenz[-1]\n",
    "    fig, ax = plt.subplots(figsize=[6,6])\n",
    "    ## scatter plot of Lorenz curve\n",
    "    ax.scatter(np.arange(X_lorenz.size)/(X_lorenz.size-1), X_lorenz, \n",
    "               marker='x', color='darkgreen', s=100)\n",
    "    ## line plot of equality\n",
    "    ax.plot([0,1], [0,1], color='k')"
   ]
  },
  {
   "cell_type": "code",
   "execution_count": 34,
   "metadata": {},
   "outputs": [],
   "source": [
    "X = np.append(np.random.poisson(lam=10, size=40), \n",
    "              np.random.poisson(lam=100, size=10))\n"
   ]
  },
  {
   "cell_type": "code",
   "execution_count": 38,
   "metadata": {},
   "outputs": [
    {
     "data": {
      "image/png": "[encoded data removed]",
      "text/plain": [
       "<Figure size 432x432 with 1 Axes>"
      ]
     },
     "metadata": {},
     "output_type": "display_data"
    }
   ],
   "source": [
    "lorenz_curve(y_pred)"
   ]
  },
  {
   "cell_type": "code",
   "execution_count": 41,
   "metadata": {},
   "outputs": [
    {
     "name": "stdout",
     "output_type": "stream",
     "text": [
      "(57462, 437)\n"
     ]
    },
    {
     "name": "stderr",
     "output_type": "stream",
     "text": [
      "/root/.pyenv/versions/3.6.0/lib/python3.6/site-packages/sklearn/linear_model/logistic.py:432: FutureWarning:\n",
      "\n",
      "Default solver will be changed to 'lbfgs' in 0.22. Specify a solver to silence this warning.\n",
      "\n"
     ]
    },
    {
     "data": {
      "image/png": "[encoded data removed]",
      "text/plain": [
       "<Figure size 720x720 with 1 Axes>"
      ]
     },
     "metadata": {},
     "output_type": "display_data"
    }
   ],
   "source": [
    "X = test_mod.drop(['IsBadBuy'],1)\n",
    "y = test_mod.IsBadBuy\n",
    "X = pd.get_dummies(X)\n",
    "\n",
    "#Split the data\n",
    "X_train,X_test,y_train,y_test = train_test_split(X,y,test_size=.4,random_state=43)\n",
    "\n",
    "sm = SMOTE(random_state=43,sampling_strategy=.5)\n",
    "\n",
    "X_res,y_res = sm.fit_resample(X_train,y_train)\n",
    "print(X_res.shape)\n",
    "X_train_res, X_test_res, y_train_res, y_test_res = train_test_split(X_res,y_res,test_size=.5,random_state=43)\n",
    "\n",
    "\n",
    "params = {'n_estimators': 700,\n",
    "                      'max_depth': 12,\n",
    "                      'loss': 'deviance',\n",
    "                      'min_samples_leaf':2,\n",
    "                      'min_samples_split':4}\n",
    "\n",
    "lrc = linear_model.LogisticRegression(penalty='l1',C=.4)\n",
    "lrc.fit(X_train_res, y_train_res)\n",
    "acc = clf.score(X_test,y_test)\n",
    "\n",
    "# get roc/auc info\n",
    "Y_score = lrc.predict_proba(X_test)[:,1]\n",
    "fpr = dict()\n",
    "tpr = dict()\n",
    "fpr, tpr, _ = roc_curve(y_test, Y_score)\n",
    "\n",
    "roc_auc = dict()\n",
    "roc_auc = auc(fpr, tpr)\n",
    "\n",
    "# make the plot\n",
    "plt.figure(figsize=(10,10))\n",
    "plt.plot([0, 1], [0, 1], 'k--')\n",
    "plt.xlim([-0.05, 1.0])\n",
    "plt.ylim([0.0, 1.05])\n",
    "plt.xlabel('False Positive Rate')\n",
    "plt.ylabel('True Positive Rate')\n",
    "plt.grid(True)\n",
    "plt.plot(fpr, tpr, label='AUC = {0}'.format(roc_auc))        \n",
    "plt.legend(loc=\"lower right\", shadow=True, fancybox =True) \n",
    "plt.show()\n",
    "\n",
    "\n"
   ]
  },
  {
   "cell_type": "code",
   "execution_count": 42,
   "metadata": {},
   "outputs": [
    {
     "name": "stdout",
     "output_type": "stream",
     "text": [
      "\n",
      "\t\tClassification Report: Gradient Boosting Classifier \n",
      "\n",
      "              precision    recall  f1-score   support\n",
      "\n",
      "           0       0.90      0.89      0.90     25699\n",
      "           1       0.27      0.31      0.29      3495\n",
      "\n",
      "   micro avg       0.82      0.82      0.82     29194\n",
      "   macro avg       0.59      0.60      0.59     29194\n",
      "weighted avg       0.83      0.82      0.82     29194\n",
      "\n",
      "ROC_AUC SCORE: 0.6\n",
      "Gini Index:0.2005\n"
     ]
    },
    {
     "data": {
      "image/png": "[encoded data removed]",
      "text/plain": [
       "<Figure size 432x288 with 2 Axes>"
      ]
     },
     "metadata": {},
     "output_type": "display_data"
    }
   ],
   "source": [
    "y_pred = lrc.predict(X_test)\n",
    "print('\\n\\t\\tClassification Report: Gradient Boosting Classifier \\n')\n",
    "print(classification_report(y_test,y_pred))\n",
    "print(\"ROC_AUC SCORE: {}\".format(round(roc_auc_score(y_test,y_pred),2)))\n",
    "print('Gini Index:{}'.format(round(Gini(y_test,y_pred),4)))\n",
    "conmat = confusion_matrix(y_test,y_pred)\n",
    "sns.heatmap(conmat,annot=True,fmt='d',cmap='mako_r',cbar=True)\n",
    "plt.show()"
   ]
  },
  {
   "cell_type": "code",
   "execution_count": 46,
   "metadata": {},
   "outputs": [
    {
     "name": "stdout",
     "output_type": "stream",
     "text": [
      "(65123, 437)\n"
     ]
    },
    {
     "data": {
      "image/png": "[encoded data removed]",
      "text/plain": [
       "<Figure size 720x720 with 1 Axes>"
      ]
     },
     "metadata": {},
     "output_type": "display_data"
    },
    {
     "name": "stdout",
     "output_type": "stream",
     "text": [
      "\n",
      "\t\tClassification Report: Gradient Boosting Classifier \n",
      "\n",
      "              precision    recall  f1-score   support\n",
      "\n",
      "           0       0.89      0.99      0.93     25699\n",
      "           1       0.42      0.07      0.13      3495\n",
      "\n",
      "   micro avg       0.88      0.88      0.88     29194\n",
      "   macro avg       0.65      0.53      0.53     29194\n",
      "weighted avg       0.83      0.88      0.84     29194\n",
      "\n",
      "ROC_AUC SCORE: 0.53\n",
      "Gini Index:0.0718\n"
     ]
    },
    {
     "data": {
      "image/png": "[encoded data removed]",
      "text/plain": [
       "<Figure size 432x288 with 2 Axes>"
      ]
     },
     "metadata": {},
     "output_type": "display_data"
    }
   ],
   "source": [
    "X = test_mod.drop(['IsBadBuy'],1)\n",
    "y = test_mod.IsBadBuy\n",
    "X = pd.get_dummies(X)\n",
    "\n",
    "#Split the data\n",
    "X_train,X_test,y_train,y_test = train_test_split(X,y,test_size=.4,random_state=43)\n",
    "\n",
    "sm = SMOTE(random_state=43,sampling_strategy=.7)\n",
    "\n",
    "X_res,y_res = sm.fit_resample(X_train,y_train)\n",
    "print(X_res.shape)\n",
    "X_train_res, X_test_res, y_train_res, y_test_res = train_test_split(X_res,y_res,test_size=.5,random_state=43)\n",
    "\n",
    "params = {'n_estimators': 700,\n",
    "                      'max_depth': 12,\n",
    "                      'loss': 'deviance',\n",
    "                      'min_samples_leaf':2,\n",
    "                      'min_samples_split':4,\n",
    "                     }\n",
    "\n",
    "clf = ensemble.GradientBoostingClassifier(**params)\n",
    "clf.fit(X_train_res, y_train_res)\n",
    "acc = clf.score(X_test,y_test)\n",
    "\n",
    "# get roc/auc info\n",
    "Y_score = clf.predict_proba(X_test)[:,1]\n",
    "fpr = dict()\n",
    "tpr = dict()\n",
    "fpr, tpr, _ = roc_curve(y_test, Y_score)\n",
    "\n",
    "roc_auc = dict()\n",
    "roc_auc = auc(fpr, tpr)\n",
    "\n",
    "# make the plot\n",
    "plt.figure(figsize=(10,10))\n",
    "plt.plot([0, 1], [0, 1], 'k--')\n",
    "plt.xlim([-0.05, 1.0])\n",
    "plt.ylim([0.0, 1.05])\n",
    "plt.xlabel('False Positive Rate')\n",
    "plt.ylabel('True Positive Rate')\n",
    "plt.grid(True)\n",
    "plt.plot(fpr, tpr, label='AUC = {0}'.format(roc_auc))        \n",
    "plt.legend(loc=\"lower right\", shadow=True, fancybox =True) \n",
    "plt.show()\n",
    "\n",
    "y_pred = clf.predict(X_test)\n",
    "print('\\n\\t\\tClassification Report: Gradient Boosting Classifier \\n')\n",
    "print(classification_report(y_test,y_pred))\n",
    "print(\"ROC_AUC SCORE: {}\".format(round(roc_auc_score(y_test,y_pred),2)))\n",
    "print('Gini Index:{}'.format(round(Gini(y_test,y_pred),4)))\n",
    "conmat = confusion_matrix(y_test,y_pred)\n",
    "sns.heatmap(conmat,annot=True,fmt='d',cmap='mako_r',cbar=True)\n",
    "plt.show()"
   ]
  },
  {
   "cell_type": "code",
   "execution_count": null,
   "metadata": {},
   "outputs": [],
   "source": []
  }
 ],
 "metadata": {
  "kernelspec": {
   "display_name": "Python 3",
   "language": "python",
   "name": "python3"
  },
  "language_info": {
   "codemirror_mode": {
    "name": "ipython",
    "version": 3
   },
   "file_extension": ".py",
   "mimetype": "text/x-python",
   "name": "python",
   "nbconvert_exporter": "python",
   "pygments_lexer": "ipython3",
   "version": "3.6.0"
  }
 },
 "nbformat": 4,
 "nbformat_minor": 2
}
